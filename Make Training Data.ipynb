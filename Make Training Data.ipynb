{
 "cells": [
  {
   "cell_type": "code",
   "execution_count": 1,
   "metadata": {},
   "outputs": [],
   "source": [
    "import torch\n",
    "import torch.utils.data as data\n",
    "import torchvision.transforms as transforms\n",
    "import numpy as np\n",
    "from IPython.display import Audio\n",
    "import librosa\n",
    "import librosa.display\n",
    "from tqdm import tqdm\n",
    "import h5py\n",
    "import os\n",
    "\n",
    "from pytorch_nsynth_lib.nsynth import NSynth\n",
    "\n",
    "from GANsynth_pytorch import phase_operation"
   ]
  },
  {
   "cell_type": "code",
   "execution_count": 2,
   "metadata": {},
   "outputs": [],
   "source": [
    "from GANsynth_pytorch import spec_ops as spec_ops\n",
    "from GANsynth_pytorch import phase_operation as phase_op\n",
    "from GANsynth_pytorch import spectrograms_helper as spec_helper"
   ]
  },
  {
   "cell_type": "code",
   "execution_count": 3,
   "metadata": {},
   "outputs": [],
   "source": [
    "base_path = '/media/theis/DATA/datasets/nsynth/valid/'"
   ]
  },
  {
   "cell_type": "code",
   "execution_count": 4,
   "metadata": {},
   "outputs": [],
   "source": [
    "# audio samples are loaded as an int16 numpy array\n",
    "# rescale intensity range as float [-1, 1]\n",
    "toFloat = transforms.Lambda(lambda x: x / np.iinfo(np.int16).max)\n",
    "\n",
    "# use instrument_family and instrument_source as classification targets\n",
    "dataset = NSynth(os.path.join(base_path, \"nsynth-valid/\"),\n",
    "                 transform=toFloat,\n",
    "                 #  blacklist_pattern=[\"string\"],  # blacklist string instrument\n",
    "                 #  categorical_field_list=[\"instrument_family\",\"pitch\"]\n",
    ")\n",
    "\n",
    "loader = data.DataLoader(dataset, batch_size=1, shuffle=False)"
   ]
  },
  {
   "cell_type": "code",
   "execution_count": 5,
   "metadata": {},
   "outputs": [
    {
     "name": "stdout",
     "output_type": "stream",
     "text": [
      "[array([0.        , 0.00015259, 0.00045778, ..., 0.        , 0.        ,\n",
      "       0.        ]), 4, {'note_str': 'keyboard_acoustic_004-021-050', 'sample_rate': 16000, 'qualities_str': ['dark', 'reverb'], 'instrument_source': 0, 'instrument_family_str': 'keyboard', 'instrument_family': 4, 'note': 212634, 'instrument_source_str': 'acoustic', 'qualities': [0, 1, 0, 0, 0, 0, 0, 0, 1, 0], 'pitch': 21, 'instrument_str': 'keyboard_acoustic_004', 'instrument': 327, 'velocity': 50}]\n"
     ]
    }
   ],
   "source": [
    "print(dataset[0])"
   ]
  },
  {
   "cell_type": "code",
   "execution_count": 6,
   "metadata": {},
   "outputs": [],
   "source": [
    "def expand(mat):\n",
    "    expand_vec = np.expand_dims(mat[:,125],axis=1)\n",
    "    expanded = np.hstack((mat,expand_vec,expand_vec))\n",
    "    return expanded"
   ]
  },
  {
   "cell_type": "code",
   "execution_count": 7,
   "metadata": {},
   "outputs": [
    {
     "name": "stderr",
     "output_type": "stream",
     "text": [
      "100%|██████████| 12678/12678 [14:50<00:00, 14.23it/s] \n"
     ]
    }
   ],
   "source": [
    "pitch_set =set()\n",
    "count=0\n",
    "for samples, pitch, targets in tqdm(loader):\n",
    "    \n",
    "    pitch = targets['pitch'].data.numpy()[0]\n",
    "\n",
    "    if pitch < 24 or pitch > 84:\n",
    "#         print(\"pitch\",pitch)\n",
    "        continue\n",
    "        \n",
    "    sample = samples.data.numpy().squeeze()\n",
    "    spec = librosa.stft(sample, n_fft=2048, hop_length = 512)\n",
    "    \n",
    "    magnitude = np.log(np.abs(spec)+ 1.0e-6)[:1024]\n",
    "#     print(\"magnitude Max\",magnitude.max(),\"magnitude Min\",magnitude.min())\n",
    "    angle =np.angle(spec)\n",
    "#     print(\"angle Max\",angle.max(),\"angle Min\",angle.min())\n",
    "\n",
    "    IF = phase_operation.instantaneous_frequency(angle,time_axis=1)[:1024]\n",
    "    \n",
    "    magnitude = expand(magnitude)\n",
    "    IF = expand(IF)\n",
    "    logmelmag2, mel_p = spec_helper.specgrams_to_melspecgrams(magnitude, IF)\n",
    "\n",
    "#     pitch = targets['pitch'].data.numpy()[0]\n",
    "    \n",
    "    \n",
    "    assert magnitude.shape ==(1024, 128)\n",
    "    assert IF.shape ==(1024, 128)\n",
    "    \n",
    "    pitch_set.add(pitch)\n",
    "    \n",
    "    sample_name = targets['note_str'][0]\n",
    "    with h5py.File(os.path.join(base_path, 'hdf5/no_target/' f'{sample_name}.h5'), 'w') as sample_file:\n",
    "        sample_file.create_dataset(\"Spec\", data=magnitude)\n",
    "        sample_file.create_dataset(\"IF\", data=IF)\n",
    "        sample_file.create_dataset(\"mel_Spec\", data=logmelmag2)\n",
    "        sample_file.create_dataset(\"mel_IF\", data=mel_p)\n",
    "        sample_file.attrs.create(\"pitch\", data=pitch)\n",
    "    \n",
    "    count+=1"
   ]
  },
  {
   "cell_type": "code",
   "execution_count": null,
   "metadata": {},
   "outputs": [],
   "source": [
    "with h5py.File(os.path.join(base_path, 'hdf5/no_target/' f'{sample_name}.h5'), 'r') as sample_file:\n",
    "        print(sample_file.attrs[\"pitch\"])"
   ]
  },
  {
   "cell_type": "code",
   "execution_count": null,
   "metadata": {},
   "outputs": [],
   "source": [
    "for sample_index, sample in enumerate(dataset):\n",
    "    _, _, sample_details = sample\n",
    "    sample_name = sample_details['note_str']\n",
    "\n",
    "    with h5py.File(f'/media/theis/DATA/datasets/nsynth/valid/hdf5/{sample_name}.h5', 'w') as sample_file:\n",
    "#         sample_file.create_dataset(\"Spec\", data=spec_list[sample_index])\n",
    "#         sample_file.create_dataset(\"IF\", data=IF_list[sample_index])\n",
    "        sample_file.create_dataset(\"pitch\", data=pitch_list[sample_index])\n",
    "        sample_file.create_dataset(\"mel_Spec\", data=mel_spec_list[sample_index])\n",
    "        sample_file.create_dataset(\"mel_IF\", data=mel_IF_list[sample_index])"
   ]
  },
  {
   "cell_type": "code",
   "execution_count": null,
   "metadata": {},
   "outputs": [],
   "source": [
    "len(mel_IF_list)"
   ]
  },
  {
   "cell_type": "code",
   "execution_count": null,
   "metadata": {},
   "outputs": [],
   "source": [
    "subset_data = h5py.File('/media/theis/DATA/datasets/nsynth/valid/Nsynth_melspec_IF_pitch-subset-50_first.hdf5', 'w')\n",
    "\n",
    "subset_data.create_dataset(\"Spec\", data=spec_list[:50])\n",
    "subset_data.create_dataset(\"IF\", data=IF_list[:50])\n",
    "subset_data.create_dataset(\"pitch\", data=pitch_list[:50])\n",
    "subset_data.create_dataset(\"mel_Spec\", data=mel_spec_list[:50])\n",
    "subset_data.create_dataset(\"mel_IF\", data=mel_IF_list[:50])\n",
    "\n",
    "# don't forget to close the file to avoid file-system errors\n",
    "subset_data.close()"
   ]
  }
 ],
 "metadata": {
  "kernelspec": {
   "display_name": "Python 3",
   "language": "python",
   "name": "python3"
  },
  "language_info": {
   "codemirror_mode": {
    "name": "ipython",
    "version": 3
   },
   "file_extension": ".py",
   "mimetype": "text/x-python",
   "name": "python",
   "nbconvert_exporter": "python",
   "pygments_lexer": "ipython3",
   "version": "3.7.4"
  }
 },
 "nbformat": 4,
 "nbformat_minor": 4
}
